{
 "cells": [
  {
   "cell_type": "markdown",
   "metadata": {},
   "source": [
    "# String Methods"
   ]
  },
  {
   "cell_type": "markdown",
   "metadata": {},
   "source": [
    "**Capitalize()**"
   ]
  },
  {
   "cell_type": "code",
   "execution_count": 1,
   "metadata": {
    "metadata": {}
   },
   "outputs": [
    {
     "name": "stdout",
     "output_type": "stream",
     "text": [
      "Hello, earthling! how can i help you?\n"
     ]
    }
   ],
   "source": [
    "txt = 'hello, Earthling! How can I help you?'\n",
    "print(txt.capitalize())"
   ]
  },
  {
   "cell_type": "markdown",
   "metadata": {},
   "source": [
    "**casefold()**\n",
    "\n",
    "*Difference between casefold() and lower() in Python*\n",
    "\n",
    "Python String casefold() Method is more aggressive in conversion to lowercase characters because it tends to remove all case distinctions in a String."
   ]
  },
  {
   "cell_type": "code",
   "execution_count": 2,
   "metadata": {
    "metadata": {}
   },
   "outputs": [
    {
     "name": "stdout",
     "output_type": "stream",
     "text": [
      "hello, earthling! how can i help you?\n"
     ]
    }
   ],
   "source": [
    "print(txt.casefold())"
   ]
  },
  {
   "cell_type": "markdown",
   "metadata": {},
   "source": [
    "**Python String center() Method**"
   ]
  },
  {
   "cell_type": "code",
   "execution_count": 5,
   "metadata": {
    "metadata": {}
   },
   "outputs": [
    {
     "name": "stdout",
     "output_type": "stream",
     "text": [
      "      Hello, Earthling! How can I help you?       \n"
     ]
    }
   ],
   "source": [
    "print(txt.center(50))"
   ]
  },
  {
   "cell_type": "markdown",
   "metadata": {},
   "source": [
    "**Python String count() Method**"
   ]
  },
  {
   "cell_type": "code",
   "execution_count": 6,
   "metadata": {
    "metadata": {}
   },
   "outputs": [
    {
     "name": "stdout",
     "output_type": "stream",
     "text": [
      "3\n"
     ]
    }
   ],
   "source": [
    "print(txt.count('o'))"
   ]
  },
  {
   "cell_type": "markdown",
   "metadata": {},
   "source": [
    "**Python String endswith() Method Syntax**"
   ]
  },
  {
   "cell_type": "code",
   "execution_count": 7,
   "metadata": {
    "metadata": {}
   },
   "outputs": [
    {
     "name": "stdout",
     "output_type": "stream",
     "text": [
      "False\n"
     ]
    }
   ],
   "source": [
    "print(txt.endswith('hello'))"
   ]
  },
  {
   "cell_type": "markdown",
   "metadata": {},
   "source": [
    "## task 1"
   ]
  },
  {
   "cell_type": "code",
   "execution_count": 3,
   "metadata": {
    "metadata": {}
   },
   "outputs": [
    {
     "name": "stdout",
     "output_type": "stream",
     "text": [
      "lalaJ\n",
      "lalaJ\n"
     ]
    }
   ],
   "source": [
    "string = str(input('Enter a string: '))\n",
    "print(string[-1::-1])\n",
    "print(''.join(reversed(string)))\n"
   ]
  },
  {
   "cell_type": "code",
   "execution_count": 12,
   "metadata": {
    "metadata": {}
   },
   "outputs": [
    {
     "data": {
      "text/plain": [
       "<reversed at 0x1cc36d72e90>"
      ]
     },
     "execution_count": 12,
     "metadata": {},
     "output_type": "execute_result"
    }
   ],
   "source": [
    "print(reversed(string))"
   ]
  },
  {
   "cell_type": "markdown",
   "metadata": {},
   "source": [
    "# Task 2"
   ]
  },
  {
   "cell_type": "markdown",
   "metadata": {},
   "source": [
    "### Using Find Function"
   ]
  },
  {
   "cell_type": "code",
   "execution_count": 15,
   "metadata": {
    "metadata": {}
   },
   "outputs": [
    {
     "name": "stdout",
     "output_type": "stream",
     "text": [
      "0\n"
     ]
    }
   ],
   "source": [
    "string = str(input('Enter a string: '))\n",
    "ch_str = str(input('Which word you want to Find: '))\n",
    "print(string.find(ch_str))\n"
   ]
  },
  {
   "cell_type": "markdown",
   "metadata": {},
   "source": [
    "### Using `in ` Function"
   ]
  },
  {
   "cell_type": "code",
   "execution_count": 16,
   "metadata": {
    "metadata": {}
   },
   "outputs": [
    {
     "name": "stdout",
     "output_type": "stream",
     "text": [
      "True\n"
     ]
    }
   ],
   "source": [
    "string = str(input('Enter a string: '))\n",
    "ch_str = str(input('Which word you want to Find: '))\n",
    "print(ch_str in string)"
   ]
  },
  {
   "cell_type": "markdown",
   "metadata": {},
   "source": [
    "# Task 3"
   ]
  },
  {
   "cell_type": "code",
   "execution_count": 22,
   "metadata": {
    "metadata": {}
   },
   "outputs": [
    {
     "name": "stdout",
     "output_type": "stream",
     "text": [
      "Center character of the string is: h\n"
     ]
    }
   ],
   "source": [
    "string = str(input('Enter a string: '))\n",
    "len_str = len(string)\n",
    "center_str = len_str // 2\n",
    "center_str = string[center_str]\n",
    "print('Center character of the string is:', center_str)"
   ]
  },
  {
   "cell_type": "markdown",
   "metadata": {},
   "source": [
    "# Task 4"
   ]
  },
  {
   "cell_type": "code",
   "execution_count": 26,
   "metadata": {
    "metadata": {}
   },
   "outputs": [
    {
     "name": "stdout",
     "output_type": "stream",
     "text": [
      "Original length: 37\n",
      "Without Whitespaces 31\n"
     ]
    }
   ],
   "source": [
    "string = str(input('Enter a string: '))\n",
    "print('Original length:', len(string))\n",
    "rem_spc = string.replace(' ', '')\n",
    "print('Without Whitespaces',len(rem_spc))"
   ]
  },
  {
   "cell_type": "markdown",
   "metadata": {},
   "source": [
    "# Task 5"
   ]
  },
  {
   "cell_type": "code",
   "execution_count": 2,
   "metadata": {
    "metadata": {}
   },
   "outputs": [
    {
     "name": "stdout",
     "output_type": "stream",
     "text": [
      "original string: hello, Earthling! How can I help you?\n",
      "Removed occurence:  hello, Earthling! How can I help you?\n"
     ]
    }
   ],
   "source": [
    "string = str(input('Enter a string: '))\n",
    "print('original string:', string)\n",
    "rem_char = str(input('Which character you want to remove: '))\n",
    "rem_char_fun = string.replace(rem_char, '')\n",
    "print('Removed occurence: ',rem_char_fun)"
   ]
  },
  {
   "cell_type": "markdown",
   "metadata": {},
   "source": [
    "# Task 6"
   ]
  },
  {
   "cell_type": "code",
   "execution_count": 8,
   "metadata": {
    "metadata": {}
   },
   "outputs": [
    {
     "name": "stdout",
     "output_type": "stream",
     "text": [
      "original string: jala\n",
      "JA\n"
     ]
    }
   ],
   "source": [
    "string = str(input('Enter a string: '))\n",
    "print('original string:', string)\n",
    "print(string[len(string) // 2:].upper())"
   ]
  },
  {
   "cell_type": "markdown",
   "metadata": {},
   "source": [
    "# Task 7"
   ]
  },
  {
   "cell_type": "code",
   "execution_count": 10,
   "metadata": {
    "metadata": {}
   },
   "outputs": [
    {
     "name": "stdout",
     "output_type": "stream",
     "text": [
      "original string: jala\n",
      "a l a j\n"
     ]
    }
   ],
   "source": [
    "string = str(input('Enter a string: '))\n",
    "print('original string:', string)\n",
    "words = string.split()\n",
    "for word in words:\n",
    "    reversed_word = word[::-1]\n",
    "    reversed_string = ' '.join(reversed_word)\n",
    "print(reversed_string)    "
   ]
  },
  {
   "cell_type": "code",
   "execution_count": null,
   "metadata": {},
   "outputs": [],
   "source": [
    "# Accept input string from the user\n",
    "input_string = input('Enter a string: ')\n",
    "\n",
    "# Split the input string by spaces to get a list of words\n",
    "words = input_string.split()\n",
    "\n",
    "# Reverse each word and store in a new list\n",
    "reversed_words = [word[::-1] for word in words]\n",
    "\n",
    "# Join the reversed words with spaces to form the final string\n",
    "reversed_string = ' '.join(reversed_words)\n",
    "\n",
    "# Print the final string\n",
    "print(reversed_string)"
   ]
  }
 ],
 "metadata": {
  "kernelspec": {
   "display_name": "python_eda",
   "language": "python",
   "name": "python3"
  },
  "language_info": {
   "codemirror_mode": {
    "name": "ipython",
    "version": 3
   },
   "file_extension": ".py",
   "mimetype": "text/x-python",
   "name": "python",
   "nbconvert_exporter": "python",
   "pygments_lexer": "ipython3",
   "version": "3.12.0"
  }
 },
 "nbformat": 4,
 "nbformat_minor": 2
}
