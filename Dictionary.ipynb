{
 "cells": [
  {
   "cell_type": "code",
   "execution_count": null,
   "metadata": {
    "metadata": {}
   },
   "outputs": [],
   "source": [
    "dict1 = {'name':'Tom','age':20, 'CGPA':3.5}"
   ]
  },
  {
   "cell_type": "code",
   "execution_count": null,
   "metadata": {
    "metadata": {}
   },
   "outputs": [],
   "source": [
    "for keys, values in dict1.items():\n",
    "    print(keys, values)"
   ]
  },
  {
   "cell_type": "markdown",
   "metadata": {},
   "source": [
    "**Integer Comparison**"
   ]
  },
  {
   "cell_type": "code",
   "execution_count": null,
   "metadata": {
    "metadata": {}
   },
   "outputs": [],
   "source": [
    "a = int(input(\"Enter a number 1: \"))\n",
    "b = int(input(\"Enter a number 2: \"))\n",
    "c = int(input(\"Enter a number 3: \"))\n",
    "if a > b and a >c:\n",
    "    print(f'{a} is the largest number!')\n",
    "if b>a & b>c:\n",
    "    print(f'{b} is the largest number!')\n",
    "if c>a & c>b:\n",
    "    print(f'{c} is the largest number!')"
   ]
  },
  {
   "cell_type": "code",
   "execution_count": null,
   "metadata": {
    "metadata": {}
   },
   "outputs": [],
   "source": [
    "a = int(input(\"Enter a number 1: \"))\n",
    "b = int(input(\"Enter a number 2: \"))\n",
    "c = int(input(\"Enter a number 3: \"))\n",
    "if a >b:\n",
    "    print(f'{a} is the largest number!')\n",
    "elif a > c:\n",
    "    print(f'{a} is the largest number!')"
   ]
  },
  {
   "cell_type": "markdown",
   "metadata": {},
   "source": [
    "### Rock, Sciser, Paper Game"
   ]
  },
  {
   "cell_type": "code",
   "execution_count": null,
   "metadata": {
    "metadata": {}
   },
   "outputs": [],
   "source": [
    "rock = '''\n",
    "    _______\n",
    "---'   ____)\n",
    "      (_____)\n",
    "      (_____)\n",
    "      (____)\n",
    "---.__(___)\n",
    "'''\n",
    "\n",
    "paper = '''\n",
    "    _______\n",
    "---'   ____)____\n",
    "          ______)\n",
    "          _______)\n",
    "         _______)\n",
    "---.__________)\n",
    "'''\n",
    "\n",
    "scissors = '''\n",
    "    _______\n",
    "---'   ____)____\n",
    "          ______)\n",
    "       __________)\n",
    "      (____)\n",
    "---.__(___)\n",
    "'''"
   ]
  },
  {
   "cell_type": "code",
   "execution_count": null,
   "metadata": {
    "metadata": {}
   },
   "outputs": [],
   "source": [
    "import random\n",
    "print(\"Welcome to Rock, Paper, Scissors Game!\")\n",
    "computer_choice = random.randint(1,3)\n",
    "user_choice = int(input(\"Enter 1 for Rock, 2 for Paper, 3 for Scissors: \"))\n",
    "print(f'Computer choose: {computer_choice}')\n",
    "if user_choice == 1:\n",
    "    print(f'You choose {rock}:')\n",
    "elif user_choice == 2:\n",
    "    print(f'You choose {paper}:')\n",
    "elif user_choice == 3:\n",
    "    print(f'You choose {scissors}:')\n",
    "if computer_choice == 1 and user_choice == 1: #rock vs rock\n",
    "    print(\"It's a draw!\")\n",
    "elif computer_choice == 1 and user_choice == 2: #rock vs paper\n",
    "    print(\"You win!\")\n",
    "elif computer_choice == 1 and user_choice == 3: #rock vs scissors\n",
    "    print(\"Computer wins!\")\n",
    "elif computer_choice == 2 and user_choice == 1: #paper vs rock\n",
    "    print(\"Computer wins!\")\n",
    "elif computer_choice == 2 and user_choice == 2: #paper vs paper\n",
    "    print(\"It's a draw!\")\n",
    "elif computer_choice == 2 and user_choice == 3: #paper vs scissors\n",
    "    print(\"You win!\")\n",
    "elif computer_choice == 3 and user_choice == 1: #scissors vs rock\n",
    "    print(\"You win!\")\n",
    "elif computer_choice == 3 and user_choice == 2: #scissors vs paper\n",
    "    print(\"Computer wins!\")\n",
    "elif computer_choice == 3 and user_choice == 3: #scissors vs scissors\n",
    "    print(\"It's a draw!\")\n",
    "else:\n",
    "    print(\"Invalid input!\")\n"
   ]
  },
  {
   "cell_type": "code",
   "execution_count": null,
   "metadata": {
    "metadata": {}
   },
   "outputs": [],
   "source": [
    "import random\n",
    "print(\"Welcome to Rock, Paper, Scissors Game!\")\n",
    "computer_choice = random.randint(1,3)\n",
    "user_choice = int(input(\"Enter 1 for Rock, 2 for Paper, 3 for Scissors: \"))\n",
    "print(f'Computer choose: {computer_choice}')\n",
    "if computer_choice == 1:\n",
    "    print(f'Computer choose {rock}:')\n",
    "if computer_choice == 2:\n",
    "    print(f'Computer choose {paper}:')\n",
    "if computer_choice == 3:\n",
    "    print(f'Computer choose {scissors}:')\n",
    "\n",
    "if user_choice == 1 :\n",
    "    print(f'You choose {rock}:')\n",
    "elif user_choice == 2:\n",
    "    print(f'You choose {paper}:')\n",
    "elif user_choice == 3:\n",
    "    print(f'You choose {scissors}:')\n",
    "if computer_choice == 1 and user_choice == 1 or computer_choice == 2 and user_choice == 2 or computer_choice == 3 and user_choice == 3 : #rock vs rock\n",
    "    print(\"It's a draw!\")\n",
    "elif computer_choice == 1 and user_choice == 2 or computer_choice == 3 and user_choice == 2 or computer_choice == 3 and user_choice == 1: #rock vs paper\n",
    "    print(\"Computer win!\")\n",
    "elif computer_choice == 1 and user_choice == 3 or computer_choice == 1 and user_choice == 2 or computer_choice == 2 and user_choice == 3: #rock vs scissors\n",
    "    print(\"You wins!\")\n",
    "\n",
    "else:\n",
    "    print(\"Invalid input!\")"
   ]
  },
  {
   "cell_type": "code",
   "execution_count": null,
   "metadata": {
    "metadata": {}
   },
   "outputs": [],
   "source": [
    "name1 = str(input(\"Enter your name: \"))\n",
    "name2 = str(input(\"Enter your loved ones's name: \"))\n",
    "com_name = name1 + name2\n",
    "true = 0\n",
    "love = 0\n",
    "for i in com_name:\n",
    "    if i == 't' or i == 'r' or i == 'u' or i == 'e':\n",
    "        true += 1\n",
    "    if i == 'l' or i == 'o' or i == 'v' or i == 'e':\n",
    "        love += 1\n",
    "score = str(true) + str(love)\n",
    "score = int(score)\n",
    "print(f'Your love score is: {score}%')\n",
    "if score > 90:\n",
    "    print(\"You are perfect for each other!\")\n",
    "if score <=70:\n",
    "    print(\"You are not perfect for each other!\")\n"
   ]
  },
  {
   "cell_type": "code",
   "execution_count": 51,
   "metadata": {
    "metadata": {}
   },
   "outputs": [
    {
     "name": "stdout",
     "output_type": "stream",
     "text": [
      "at this index: 0 the fruit is: apple\n",
      "at this index: 1 the fruit is: banana\n",
      "at this index: 2 the fruit is: cherry\n"
     ]
    }
   ],
   "source": [
    "fruits = ['apple', 'banana', 'cherry']\n",
    "for i in fruits:\n",
    "    print(f'at this index: {fruits.index(i)} the fruit is: {i}')"
   ]
  },
  {
   "cell_type": "code",
   "execution_count": null,
   "metadata": {},
   "outputs": [],
   "source": []
  }
 ],
 "metadata": {
  "kernelspec": {
   "display_name": "python_eda",
   "language": "python",
   "name": "python3"
  },
  "language_info": {
   "codemirror_mode": {
    "name": "ipython",
    "version": 3
   },
   "file_extension": ".py",
   "mimetype": "text/x-python",
   "name": "python",
   "nbconvert_exporter": "python",
   "pygments_lexer": "ipython3",
   "version": "3.12.0"
  }
 },
 "nbformat": 4,
 "nbformat_minor": 2
}
