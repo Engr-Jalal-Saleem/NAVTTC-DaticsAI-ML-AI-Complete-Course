{
 "cells": [
  {
   "cell_type": "code",
   "execution_count": 1,
   "metadata": {
    "metadata": {}
   },
   "outputs": [],
   "source": [
    "import streamlit as st"
   ]
  },
  {
   "cell_type": "code",
   "execution_count": null,
   "metadata": {},
   "outputs": [],
   "source": [
    "st.title(\"Welcome to Rock, Paper, Scissors Game!\")\n",
    "st.header('How to play:')\n",
    "st.write('Choose your weapon and see if you can beat the computer!')\n",
    "st.write('Rock beats Scissors')\n",
    "st.write('Scissors beats Paper')\n",
    "st.write('Paper beats Rock')\n"
   ]
  },
  {
   "cell_type": "code",
   "execution_count": null,
   "metadata": {},
   "outputs": [],
   "source": [
    "import random\n",
    "print(\"Welcome to Rock, Paper, Scissors Game!\")\n",
    "computer_choice = random.randint(1,3)\n",
    "user_choice = int(input(\"Enter 1 for Rock, 2 for Paper, 3 for Scissors: \"))\n",
    "print(f'Computer choose: {computer_choice}')\n",
    "if computer_choice == 1:\n",
    "    print(f'Computer choose {rock}:')\n",
    "if computer_choice == 2:\n",
    "    print(f'Computer choose {paper}:')\n",
    "if computer_choice == 3:\n",
    "    print(f'Computer choose {scissors}:')\n",
    "\n",
    "if user_choice == 1 :\n",
    "    print(f'You choose {rock}:')\n",
    "elif user_choice == 2:\n",
    "    print(f'You choose {paper}:')\n",
    "elif user_choice == 3:\n",
    "    print(f'You choose {scissors}:')\n",
    "if computer_choice == 1 and user_choice == 1 or computer_choice == 2 and user_choice == 2 or computer_choice == 3 and user_choice == 3 : #rock vs rock\n",
    "    print(\"It's a draw!\")\n",
    "elif computer_choice == 1 and user_choice == 2 or computer_choice == 3 and user_choice == 2 or computer_choice == 3 and user_choice == 1: #rock vs paper\n",
    "    print(\"Computer win!\")\n",
    "elif computer_choice == 1 and user_choice == 3 or computer_choice == 1 and user_choice == 2 or computer_choice == 2 and user_choice == 3: #rock vs scissors\n",
    "    print(\"You wins!\")\n",
    "\n",
    "else:\n",
    "    print(\"Invalid input!\")"
   ]
  }
 ],
 "metadata": {
  "kernelspec": {
   "display_name": "python_eda",
   "language": "python",
   "name": "python3"
  },
  "language_info": {
   "codemirror_mode": {
    "name": "ipython",
    "version": 3
   },
   "file_extension": ".py",
   "mimetype": "text/x-python",
   "name": "python",
   "nbconvert_exporter": "python",
   "pygments_lexer": "ipython3",
   "version": "3.12.0"
  }
 },
 "nbformat": 4,
 "nbformat_minor": 2
}
