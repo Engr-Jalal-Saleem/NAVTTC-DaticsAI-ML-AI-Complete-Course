{
 "cells": [
  {
   "cell_type": "code",
   "execution_count": 28,
   "metadata": {
    "metadata": {}
   },
   "outputs": [],
   "source": [
    "import random as rn\n",
    "sml_let = 'qwertyuiopasdfghjklzxcvbnm'\n",
    "cap_let = sml_let.upper()\n",
    "digits = \"1234567890\"\n",
    "spl_char = \"!@#$%^&*|?><.\"\n",
    "\n",
    "def password_gen():\n",
    "    global sml_let, cap_let, digits, spl_char  \n",
    "    ls = []\n",
    "    pass_length = int(input(\"Enter the length of the password: \"))\n",
    "    sml_let_len = int(input(\"Enter the number of small letters: \"))\n",
    "    cap_let_len = int(input(\"Enter the number of capital letters: \"))\n",
    "    digits_len = int(input(\"Enter the number of digits: \"))\n",
    "    spl_char_len = int(input(\"Enter the number of special characters: \"))\n",
    "    if pass_length == sml_let_len + cap_let_len + digits_len + spl_char_len:\n",
    "        for i in range(sml_let_len):\n",
    "            rn_sml_let = rn.choice(sml_let)\n",
    "            ls.append(rn_sml_let)\n",
    "        for i in range(cap_let_len):\n",
    "            rn_cap_let = rn.choice(cap_let)\n",
    "            ls.append(rn_cap_let)\n",
    "        for i in range(digits_len):\n",
    "            rn_digits = rn.choice(digits)\n",
    "            ls.append(rn_digits)\n",
    "        for i in range(spl_char_len):\n",
    "            rn_spl_char = rn.choice(spl_char)\n",
    "            ls.append(rn_spl_char)\n",
    "    else:\n",
    "        print(\"The sum of all the lengths should be equal to the length of the password\")\n",
    "    rn.shuffle(ls)\n",
    "    final_password = ''.join(ls)\n",
    "    print(final_password)\n"
   ]
  },
  {
   "cell_type": "code",
   "execution_count": 29,
   "metadata": {
    "metadata": {}
   },
   "outputs": [
    {
     "name": "stdout",
     "output_type": "stream",
     "text": [
      "The sum of all the lengths should be equal to the length of the password\n",
      "\n"
     ]
    }
   ],
   "source": [
    "password_gen()"
   ]
  },
  {
   "cell_type": "code",
   "execution_count": 24,
   "metadata": {
    "metadata": {}
   },
   "outputs": [
    {
     "name": "stdout",
     "output_type": "stream",
     "text": [
      "wX<6\n"
     ]
    }
   ],
   "source": [
    "pass_length = int(input(\"Enter the length of the password: \"))\n",
    "sml_let_len = int(input(\"Enter the number of small letters: \"))\n",
    "cap_let_len = int(input(\"Enter the number of capital letters: \"))\n",
    "digits_len = int(input(\"Enter the number of digits: \"))\n",
    "spl_char_len = int(input(\"Enter the number of special characters: \"))\n",
    "\n",
    "ls = []\n",
    "if pass_length == sml_let_len + cap_let_len + digits_len + spl_char_len:\n",
    "    for i in range(sml_let_len):\n",
    "        rn_sml_let = rn.choice(sml_let)\n",
    "        ls.append(rn_sml_let)\n",
    "    for i in range(cap_let_len):\n",
    "        rn_cap_let = rn.choice(cap_let)\n",
    "        ls.append(rn_cap_let)\n",
    "    for i in range(digits_len):\n",
    "        rn_digits = rn.choice(digits)\n",
    "        ls.append(rn_digits)\n",
    "    for i in range(spl_char_len):\n",
    "        rn_spl_char = rn.choice(spl_char)\n",
    "        ls.append(rn_spl_char)\n",
    "else:\n",
    "    print(\"The sum of all the lengths should be equal to the length of the password\")\n",
    "rn.shuffle(ls)\n",
    "final_password = ''.join(ls)\n",
    "print(final_password)"
   ]
  },
  {
   "cell_type": "code",
   "execution_count": null,
   "metadata": {
    "metadata": {}
   },
   "outputs": [],
   "source": [
    "ls1=rn.shuffle(ls)"
   ]
  },
  {
   "cell_type": "code",
   "execution_count": null,
   "metadata": {
    "metadata": {}
   },
   "outputs": [],
   "source": [
    "print(ls1)"
   ]
  },
  {
   "cell_type": "code",
   "execution_count": 20,
   "metadata": {
    "metadata": {}
   },
   "outputs": [],
   "source": [
    "fruits = ['apple', 'banana', 'cherry']\n",
    "rn.shuffle(fruits)\n"
   ]
  },
  {
   "cell_type": "code",
   "execution_count": 21,
   "metadata": {
    "metadata": {}
   },
   "outputs": [],
   "source": [
    "result = ''.join(fruits)"
   ]
  },
  {
   "cell_type": "code",
   "execution_count": 22,
   "metadata": {
    "metadata": {}
   },
   "outputs": [
    {
     "data": {
      "text/plain": [
       "'applebananacherry'"
      ]
     },
     "execution_count": 22,
     "metadata": {},
     "output_type": "execute_result"
    }
   ],
   "source": [
    "result"
   ]
  },
  {
   "cell_type": "code",
   "execution_count": 30,
   "metadata": {
    "metadata": {}
   },
   "outputs": [],
   "source": [
    "i = str(1)"
   ]
  },
  {
   "cell_type": "code",
   "execution_count": 31,
   "metadata": {
    "metadata": {}
   },
   "outputs": [
    {
     "data": {
      "text/plain": [
       "1"
      ]
     },
     "execution_count": 31,
     "metadata": {},
     "output_type": "execute_result"
    }
   ],
   "source": [
    "int(i)"
   ]
  },
  {
   "cell_type": "code",
   "execution_count": null,
   "metadata": {},
   "outputs": [],
   "source": []
  }
 ],
 "metadata": {
  "kernelspec": {
   "display_name": "python_eda",
   "language": "python",
   "name": "python3"
  },
  "language_info": {
   "codemirror_mode": {
    "name": "ipython",
    "version": 3
   },
   "file_extension": ".py",
   "mimetype": "text/x-python",
   "name": "python",
   "nbconvert_exporter": "python",
   "pygments_lexer": "ipython3",
   "version": "3.12.0"
  }
 },
 "nbformat": 4,
 "nbformat_minor": 2
}
