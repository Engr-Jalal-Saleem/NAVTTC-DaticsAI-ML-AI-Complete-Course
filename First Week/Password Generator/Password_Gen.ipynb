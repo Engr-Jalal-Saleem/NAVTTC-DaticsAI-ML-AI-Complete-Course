{
 "cells": [
  {
   "cell_type": "code",
   "execution_count": 32,
   "metadata": {
    "metadata": {}
   },
   "outputs": [],
   "source": [
    "import random as rn\n",
    "sml_let = 'qwertyuiopasdfghjklzxcvbnm'\n",
    "cap_let = sml_let.upper()\n",
    "digits = \"1234567890\"\n",
    "spl_char = \"!@#$%^&*|?><.\"\n",
    "def password_gen():\n",
    "    global sml_let, cap_let, digits, spl_char\n",
    "    ls = []\n",
    "    for i in range(3):\n",
    "        rn_sml_let = rn.choice(sml_let)\n",
    "        ls.append(rn_sml_let)\n",
    "        rn_cap_let = rn.choice(cap_let)\n",
    "        ls.append(rn_cap_let)\n",
    "        rn_digits = rn.choice(digits)\n",
    "        ls.append(rn_digits)\n",
    "        rn_spl_char = rn.choice(spl_char)\n",
    "        ls.append(rn_spl_char)\n",
    "    password = ''.join(ls)\n",
    "    print(password)"
   ]
  },
  {
   "cell_type": "code",
   "execution_count": 33,
   "metadata": {
    "metadata": {}
   },
   "outputs": [
    {
     "name": "stdout",
     "output_type": "stream",
     "text": [
      "lY3*tN9^iV9$\n"
     ]
    }
   ],
   "source": [
    "password_gen()"
   ]
  },
  {
   "cell_type": "code",
   "execution_count": 27,
   "metadata": {
    "metadata": {}
   },
   "outputs": [
    {
     "name": "stdout",
     "output_type": "stream",
     "text": [
      "kP2%vA9#eJ9.\n"
     ]
    }
   ],
   "source": [
    "ls = []\n",
    "for i in range(3):\n",
    "    rn_sml_let = rn.choice(sml_let)\n",
    "    ls.append(rn_sml_let)\n",
    "    rn_cap_let = rn.choice(cap_let)\n",
    "    ls.append(rn_cap_let)\n",
    "    rn_digits = rn.choice(digits)\n",
    "    ls.append(rn_digits)\n",
    "    rn_spl_char = rn.choice(spl_char)\n",
    "    ls.append(rn_spl_char)\n",
    "password = ''.join(ls)\n",
    "print(password)"
   ]
  },
  {
   "cell_type": "code",
   "execution_count": 4,
   "metadata": {
    "metadata": {}
   },
   "outputs": [],
   "source": [
    "import streamlit as st"
   ]
  },
  {
   "cell_type": "code",
   "execution_count": 5,
   "metadata": {
    "metadata": {}
   },
   "outputs": [
    {
     "name": "stderr",
     "output_type": "stream",
     "text": [
      "2024-07-26 23:30:27.248 \n",
      "  \u001b[33m\u001b[1mWarning:\u001b[0m to view this Streamlit app on a browser, run it with the following\n",
      "  command:\n",
      "\n",
      "    streamlit run c:\\Users\\jalal\\miniconda3\\envs\\python_eda\\Lib\\site-packages\\ipykernel_launcher.py [ARGUMENTS]\n"
     ]
    },
    {
     "data": {
      "text/plain": [
       "DeltaGenerator()"
      ]
     },
     "execution_count": 5,
     "metadata": {},
     "output_type": "execute_result"
    }
   ],
   "source": [
    "st.title('Password_Generator.ipynb')"
   ]
  },
  {
   "cell_type": "code",
   "execution_count": 6,
   "metadata": {
    "metadata": {}
   },
   "outputs": [
    {
     "ename": "SyntaxError",
     "evalue": "invalid syntax (9520644.py, line 1)",
     "output_type": "error",
     "traceback": [
      "\u001b[1;36m  Cell \u001b[1;32mIn[6], line 1\u001b[1;36m\u001b[0m\n\u001b[1;33m    streamlit run c:\\Users\\jalal\\miniconda3\\envs\\python_eda\\Lib\\site-packages\\ipykernel_launcher.py\u001b[0m\n\u001b[1;37m              ^\u001b[0m\n\u001b[1;31mSyntaxError\u001b[0m\u001b[1;31m:\u001b[0m invalid syntax\n"
     ]
    }
   ],
   "source": [
    "streamlit run c:\\Users\\jalal\\miniconda3\\envs\\python_eda\\Lib\\site-packages\\ipykernel_launcher.py"
   ]
  },
  {
   "cell_type": "code",
   "execution_count": null,
   "metadata": {},
   "outputs": [],
   "source": []
  }
 ],
 "metadata": {
  "kernelspec": {
   "display_name": "python_eda",
   "language": "python",
   "name": "python3"
  },
  "language_info": {
   "codemirror_mode": {
    "name": "ipython",
    "version": 3
   },
   "file_extension": ".py",
   "mimetype": "text/x-python",
   "name": "python",
   "nbconvert_exporter": "python",
   "pygments_lexer": "ipython3",
   "version": "3.12.0"
  }
 },
 "nbformat": 4,
 "nbformat_minor": 2
}
